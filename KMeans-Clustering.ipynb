{
 "cells": [
  {
   "cell_type": "markdown",
   "id": "f3d3f2f3-1ad1-40e5-bd78-2457ab235845",
   "metadata": {},
   "source": [
    "## K-Means Clustering WholeSale Customers data"
   ]
  },
  {
   "cell_type": "markdown",
   "id": "bca77d8f-fbc0-4de0-bd3e-f66adaf578be",
   "metadata": {},
   "source": [
    "### Importing necessary libraries\n"
   ]
  },
  {
   "cell_type": "code",
   "execution_count": 1,
   "id": "ac597e5a-8b35-42c5-bf72-e625548307b5",
   "metadata": {},
   "outputs": [
    {
     "name": "stdout",
     "output_type": "stream",
     "text": [
      "Done..\n"
     ]
    }
   ],
   "source": [
    "import seaborn as sns\n",
    "import pandas as pd\n",
    "import matplotlib.pyplot as plt\n",
    "%matplotlib inline\n",
    "\n",
    "from sklearn.cluster import KMeans\n",
    "\n",
    "print(\"Done..\")"
   ]
  },
  {
   "cell_type": "markdown",
   "id": "577b0c09-b691-438a-81b4-088cc7366c6a",
   "metadata": {},
   "source": [
    "### Loading the data"
   ]
  },
  {
   "cell_type": "code",
   "execution_count": 2,
   "id": "88ffd825-7ff8-4fcd-ad46-d599da022a0f",
   "metadata": {},
   "outputs": [
    {
     "data": {
      "text/html": [
       "<div>\n",
       "<style scoped>\n",
       "    .dataframe tbody tr th:only-of-type {\n",
       "        vertical-align: middle;\n",
       "    }\n",
       "\n",
       "    .dataframe tbody tr th {\n",
       "        vertical-align: top;\n",
       "    }\n",
       "\n",
       "    .dataframe thead th {\n",
       "        text-align: right;\n",
       "    }\n",
       "</style>\n",
       "<table border=\"1\" class=\"dataframe\">\n",
       "  <thead>\n",
       "    <tr style=\"text-align: right;\">\n",
       "      <th></th>\n",
       "      <th>Channel</th>\n",
       "      <th>Region</th>\n",
       "      <th>Fresh</th>\n",
       "      <th>Milk</th>\n",
       "      <th>Grocery</th>\n",
       "      <th>Frozen</th>\n",
       "      <th>Detergents_Paper</th>\n",
       "      <th>Delicassen</th>\n",
       "    </tr>\n",
       "  </thead>\n",
       "  <tbody>\n",
       "    <tr>\n",
       "      <th>0</th>\n",
       "      <td>2</td>\n",
       "      <td>3</td>\n",
       "      <td>12669</td>\n",
       "      <td>9656</td>\n",
       "      <td>7561</td>\n",
       "      <td>214</td>\n",
       "      <td>2674</td>\n",
       "      <td>1338</td>\n",
       "    </tr>\n",
       "    <tr>\n",
       "      <th>1</th>\n",
       "      <td>2</td>\n",
       "      <td>3</td>\n",
       "      <td>7057</td>\n",
       "      <td>9810</td>\n",
       "      <td>9568</td>\n",
       "      <td>1762</td>\n",
       "      <td>3293</td>\n",
       "      <td>1776</td>\n",
       "    </tr>\n",
       "    <tr>\n",
       "      <th>2</th>\n",
       "      <td>2</td>\n",
       "      <td>3</td>\n",
       "      <td>6353</td>\n",
       "      <td>8808</td>\n",
       "      <td>7684</td>\n",
       "      <td>2405</td>\n",
       "      <td>3516</td>\n",
       "      <td>7844</td>\n",
       "    </tr>\n",
       "    <tr>\n",
       "      <th>3</th>\n",
       "      <td>1</td>\n",
       "      <td>3</td>\n",
       "      <td>13265</td>\n",
       "      <td>1196</td>\n",
       "      <td>4221</td>\n",
       "      <td>6404</td>\n",
       "      <td>507</td>\n",
       "      <td>1788</td>\n",
       "    </tr>\n",
       "    <tr>\n",
       "      <th>4</th>\n",
       "      <td>2</td>\n",
       "      <td>3</td>\n",
       "      <td>22615</td>\n",
       "      <td>5410</td>\n",
       "      <td>7198</td>\n",
       "      <td>3915</td>\n",
       "      <td>1777</td>\n",
       "      <td>5185</td>\n",
       "    </tr>\n",
       "  </tbody>\n",
       "</table>\n",
       "</div>"
      ],
      "text/plain": [
       "   Channel  Region  Fresh  Milk  Grocery  Frozen  Detergents_Paper  Delicassen\n",
       "0        2       3  12669  9656     7561     214              2674        1338\n",
       "1        2       3   7057  9810     9568    1762              3293        1776\n",
       "2        2       3   6353  8808     7684    2405              3516        7844\n",
       "3        1       3  13265  1196     4221    6404               507        1788\n",
       "4        2       3  22615  5410     7198    3915              1777        5185"
      ]
     },
     "execution_count": 2,
     "metadata": {},
     "output_type": "execute_result"
    }
   ],
   "source": [
    "customer_data = pd.read_csv('/home/bree/Documents/wholesale+customers/Wholesale customers data.csv')\n",
    "customer_data.head()"
   ]
  },
  {
   "cell_type": "code",
   "execution_count": 3,
   "id": "3fe38516-a057-4452-95e3-37f99c609538",
   "metadata": {},
   "outputs": [
    {
     "data": {
      "text/plain": [
       "(440, 8)"
      ]
     },
     "execution_count": 3,
     "metadata": {},
     "output_type": "execute_result"
    }
   ],
   "source": [
    "customer_data.shape"
   ]
  },
  {
   "cell_type": "code",
   "execution_count": 4,
   "id": "ead7fd3c-6a42-4ad7-8a56-6f0d1e970187",
   "metadata": {},
   "outputs": [
    {
     "data": {
      "text/plain": [
       "Channel             0\n",
       "Region              0\n",
       "Fresh               0\n",
       "Milk                0\n",
       "Grocery             0\n",
       "Frozen              0\n",
       "Detergents_Paper    0\n",
       "Delicassen          0\n",
       "dtype: int64"
      ]
     },
     "execution_count": 4,
     "metadata": {},
     "output_type": "execute_result"
    }
   ],
   "source": [
    "customer_data.isnull().sum()"
   ]
  },
  {
   "cell_type": "code",
   "execution_count": 5,
   "id": "4f965cb2-6991-4c4d-9959-9316544d35b5",
   "metadata": {},
   "outputs": [
    {
     "data": {
      "text/plain": [
       "Index(['Channel', 'Region', 'Fresh', 'Milk', 'Grocery', 'Frozen',\n",
       "       'Detergents_Paper', 'Delicassen'],\n",
       "      dtype='object')"
      ]
     },
     "execution_count": 5,
     "metadata": {},
     "output_type": "execute_result"
    }
   ],
   "source": [
    "customer_data.columns"
   ]
  },
  {
   "cell_type": "code",
   "execution_count": 6,
   "id": "9fb4630e-a4a4-430a-8850-84c624e0d823",
   "metadata": {},
   "outputs": [
    {
     "name": "stdout",
     "output_type": "stream",
     "text": [
      "     Fresh   Milk  Grocery  Frozen  Detergents_Paper  Delicassen\n",
      "0    12669   9656     7561     214              2674        1338\n",
      "1     7057   9810     9568    1762              3293        1776\n",
      "2     6353   8808     7684    2405              3516        7844\n",
      "3    13265   1196     4221    6404               507        1788\n",
      "4    22615   5410     7198    3915              1777        5185\n",
      "..     ...    ...      ...     ...               ...         ...\n",
      "435  29703  12051    16027   13135               182        2204\n",
      "436  39228   1431      764    4510                93        2346\n",
      "437  14531  15488    30243     437             14841        1867\n",
      "438  10290   1981     2232    1038               168        2125\n",
      "439   2787   1698     2510      65               477          52\n",
      "\n",
      "[440 rows x 6 columns]\n"
     ]
    }
   ],
   "source": [
    "X= customer_data.iloc[:,[2,3,4,5,6,7]]\n",
    "print(X)"
   ]
  },
  {
   "cell_type": "markdown",
   "id": "3fc2b251-94dd-4a4d-9750-ea4b40de6a72",
   "metadata": {},
   "source": [
    "### Choosing the number of clusters"
   ]
  },
  {
   "cell_type": "code",
   "execution_count": 7,
   "id": "d120d4c3-e12d-4447-bee8-5915445ded2e",
   "metadata": {},
   "outputs": [],
   "source": [
    "wcss = []\n",
    "\n",
    "for i in range (1,11) :\n",
    "    kmeans = KMeans(n_clusters=i,init= 'k-means++',random_state= 42)\n",
    "    kmeans.fit(X)\n",
    "    wcss.append(kmeans.inertia_)"
   ]
  },
  {
   "cell_type": "markdown",
   "id": "adf8abbf-b9a4-4e92-8198-01e8bbf83693",
   "metadata": {},
   "source": [
    "### Elbow plot for WCSS"
   ]
  },
  {
   "cell_type": "code",
   "execution_count": 8,
   "id": "88298524-c61e-403a-896a-57cc3bd9ab9b",
   "metadata": {},
   "outputs": [
    {
     "data": {
      "image/png": "[encoded data removed]",
      "text/plain": [
       "<Figure size 640x480 with 1 Axes>"
      ]
     },
     "metadata": {},
     "output_type": "display_data"
    }
   ],
   "source": [
    "plt.plot(range(1, 11), wcss)\n",
    "plt.title('Elbow Method')\n",
    "plt.xlabel('Number of Clusters')\n",
    "plt.ylabel('WCSS')\n",
    "plt.show()"
   ]
  },
  {
   "cell_type": "code",
   "execution_count": null,
   "id": "5aad754a-a062-426a-b0a8-0198c6c1f9c3",
   "metadata": {},
   "outputs": [],
   "source": []
  }
 ],
 "metadata": {
  "kernelspec": {
   "display_name": "Python 3 (ipykernel)",
   "language": "python",
   "name": "python3"
  },
  "language_info": {
   "codemirror_mode": {
    "name": "ipython",
    "version": 3
   },
   "file_extension": ".py",
   "mimetype": "text/x-python",
   "name": "python",
   "nbconvert_exporter": "python",
   "pygments_lexer": "ipython3",
   "version": "3.12.3"
  }
 },
 "nbformat": 4,
 "nbformat_minor": 5
}
