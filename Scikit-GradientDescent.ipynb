{
 "cells": [
  {
   "cell_type": "code",
   "execution_count": 7,
   "id": "613afde6-c200-4bad-b4ee-fdecbb58361c",
   "metadata": {},
   "outputs": [
    {
     "name": "stdout",
     "output_type": "stream",
     "text": [
      "Slope(m) is: 2.0\n",
      "Intercept(b) is: 3.0\n",
      "Predicted values: [ 5.  7.  9. 11. 13.]\n"
     ]
    }
   ],
   "source": [
    "from sklearn.linear_model import LinearRegression\n",
    "import numpy as np\n",
    "\n",
    "# Sample data\n",
    "x = np.array([1, 2, 3, 4, 5]).reshape(-1, 1)  # Reshape required for scikit-learn\n",
    "y = np.array([5, 7, 9, 11, 13])\n",
    "\n",
    "# Create and train the model\n",
    "model = LinearRegression()\n",
    "model.fit(x, y)\n",
    "\n",
    "m = model.coef_[0]\n",
    "b= model.intercept_\n",
    "\n",
    "# Print the slope (m) and intercept (b)\n",
    "print(f\"Slope(m) is: {m}\")\n",
    "print(f\"Intercept(b) is: {b}\")\n",
    "\n",
    "# Predicting using the model\n",
    "y_pred = model.predict(x)\n",
    "print(f\"Predicted values: {y_pred}\")\n"
   ]
  },
  {
   "cell_type": "code",
   "execution_count": null,
   "id": "2a828dee-28b9-44d1-adf6-08fb3c4bd3ca",
   "metadata": {},
   "outputs": [],
   "source": [
    "## "
   ]
  }
 ],
 "metadata": {
  "kernelspec": {
   "display_name": "Python 3 (ipykernel)",
   "language": "python",
   "name": "python3"
  },
  "language_info": {
   "codemirror_mode": {
    "name": "ipython",
    "version": 3
   },
   "file_extension": ".py",
   "mimetype": "text/x-python",
   "name": "python",
   "nbconvert_exporter": "python",
   "pygments_lexer": "ipython3",
   "version": "3.12.3"
  }
 },
 "nbformat": 4,
 "nbformat_minor": 5
}
